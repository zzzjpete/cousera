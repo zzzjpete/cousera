{
  "metadata": {
    "kernelspec": {
      "name": "python",
      "display_name": "Python (Pyodide)",
      "language": "python"
    },
    "language_info": {
      "codemirror_mode": {
        "name": "python",
        "version": 3
      },
      "file_extension": ".py",
      "mimetype": "text/x-python",
      "name": "python",
      "nbconvert_exporter": "python",
      "pygments_lexer": "ipython3",
      "version": "3.8"
    }
  },
  "nbformat_minor": 4,
  "nbformat": 4,
  "cells": [
    {
      "cell_type": "markdown",
      "source": "# Data Science Notebook",
      "metadata": {}
    },
    {
      "cell_type": "code",
      "source": "## Introduction\nThis notebook contains exercises related to Data Science, including different languages,\nlibraries, tools, and basic arithmetic operations.",
      "metadata": {
        "trusted": true
      },
      "outputs": [],
      "execution_count": null
    },
    {
      "cell_type": "code",
      "source": "## Data Science Languages\n- Python\n- R\n- SQL\n- Julia\n- Scala",
      "metadata": {
        "trusted": true
      },
      "outputs": [],
      "execution_count": null
    },
    {
      "cell_type": "code",
      "source": "## Data Science Libraries\n- Pandas\n- NumPy\n- Matplotlib\n- Scikit-learn\n- TensorFlow\n- Keras",
      "metadata": {
        "trusted": true
      },
      "outputs": [],
      "execution_count": null
    },
    {
      "cell_type": "code",
      "source": "## Data Science Tools\n\n| Tool           | Description                                   |\n|----------------|-----------------------------------------------|\n| Jupyter        | Interactive computing environment             |\n| RStudio        | Integrated development environment for R      |\n| Apache Hadoop  | Framework for distributed storage and processing |\n| Tableau        | Data visualization                            |\n",
      "metadata": {
        "trusted": true
      },
      "outputs": [],
      "execution_count": null
    },
    {
      "cell_type": "code",
      "source": "## Arithmetic Expression\n\nsubtraction = 10-5\naddition = 10+5\nmultiplication = 10*5\ndivision = 10/5\n\nsubtraction, addition, multiplication, division",
      "metadata": {
        "trusted": true
      },
      "outputs": [
        {
          "execution_count": 1,
          "output_type": "execute_result",
          "data": {
            "text/plain": "(5, 15, 50, 2.0)"
          },
          "metadata": {}
        }
      ],
      "execution_count": 1
    },
    {
      "cell_type": "markdown",
      "source": "result = (3*4)+5\nresult",
      "metadata": {}
    },
    {
      "cell_type": "code",
      "source": "minutes = 200\nhours = minutes/60\nhours",
      "metadata": {
        "trusted": true
      },
      "outputs": [
        {
          "execution_count": 5,
          "output_type": "execute_result",
          "data": {
            "text/plain": "3.3333333333333335"
          },
          "metadata": {}
        }
      ],
      "execution_count": 5
    },
    {
      "cell_type": "code",
      "source": "## objectives\n- Learn more about data science languages and libraries\n- practice basic operations in python",
      "metadata": {
        "trusted": true
      },
      "outputs": [],
      "execution_count": null
    },
    {
      "cell_type": "code",
      "source": "**Author:** Jinxi Zhang\n",
      "metadata": {
        "trusted": true
      },
      "outputs": [],
      "execution_count": null
    }
  ]
}